{
 "cells": [
  {
   "cell_type": "code",
   "execution_count": 1,
   "metadata": {
    "execution": {
     "iopub.execute_input": "2023-09-22T20:11:11.503810Z",
     "iopub.status.busy": "2023-09-22T20:11:11.503583Z",
     "iopub.status.idle": "2023-09-22T20:11:13.559695Z",
     "shell.execute_reply": "2023-09-22T20:11:13.559116Z",
     "shell.execute_reply.started": "2023-09-22T20:11:11.503791Z"
    },
    "tags": []
   },
   "outputs": [
    {
     "name": "stderr",
     "output_type": "stream",
     "text": [
      "/home/ubuntu/.local/lib/python3.8/site-packages/pandas/core/computation/expressions.py:20: UserWarning: Pandas requires version '2.7.3' or newer of 'numexpr' (version '2.7.1' currently installed).\n",
      "  from pandas.core.computation.check import NUMEXPR_INSTALLED\n"
     ]
    }
   ],
   "source": [
    "import pandas as pd\n",
    "import numpy as np\n",
    "import tensorflow\n",
    "import matplotlib.pyplot as plt\n",
    "import glob"
   ]
  },
  {
   "cell_type": "markdown",
   "metadata": {},
   "source": [
    "# Data Preparation"
   ]
  },
  {
   "cell_type": "code",
   "execution_count": 2,
   "metadata": {
    "execution": {
     "iopub.execute_input": "2023-09-22T20:11:35.585221Z",
     "iopub.status.busy": "2023-09-22T20:11:35.584847Z",
     "iopub.status.idle": "2023-09-22T20:11:35.614763Z",
     "shell.execute_reply": "2023-09-22T20:11:35.614141Z",
     "shell.execute_reply.started": "2023-09-22T20:11:35.585189Z"
    },
    "tags": []
   },
   "outputs": [],
   "source": [
    "# construct dataframe from multiple csv files\n",
    "\n",
    "# get list of available csv files\n",
    "csv_files = glob.glob('./data/*.csv')\n",
    "\n",
    "# read each file and create final df\n",
    "dataframes = []\n",
    "for file in csv_files:\n",
    "    temp_df = pd.read_csv(file)\n",
    "    dataframes.append(temp_df)\n",
    "\n",
    "df = pd.concat(dataframes, ignore_index=True)\n",
    "df['Timestamp'] = pd.to_datetime(df['Timestamp'], unit='s')  # convert unix_train time to date time\n",
    "df.sort_values(by='Timestamp', inplace=True)  # sort by timestamp\n",
    "\n",
    "n_feeatures = 1  # number of features used to train"
   ]
  },
  {
   "cell_type": "code",
   "execution_count": 3,
   "metadata": {
    "execution": {
     "iopub.execute_input": "2023-09-22T20:11:38.434057Z",
     "iopub.status.busy": "2023-09-22T20:11:38.433816Z",
     "iopub.status.idle": "2023-09-22T20:11:38.450622Z",
     "shell.execute_reply": "2023-09-22T20:11:38.450131Z",
     "shell.execute_reply.started": "2023-09-22T20:11:38.434038Z"
    },
    "tags": []
   },
   "outputs": [
    {
     "name": "stdout",
     "output_type": "stream",
     "text": [
      "<class 'pandas.core.frame.DataFrame'>\n",
      "Int64Index: 44979 entries, 38532 to 38531\n",
      "Data columns (total 3 columns):\n",
      " #   Column     Non-Null Count  Dtype         \n",
      "---  ------     --------------  -----         \n",
      " 0   Number     44979 non-null  float64       \n",
      " 1   Timestamp  44979 non-null  datetime64[ns]\n",
      " 2   IP         44979 non-null  object        \n",
      "dtypes: datetime64[ns](1), float64(1), object(1)\n",
      "memory usage: 1.4+ MB\n",
      "None\n",
      "\n",
      "Number       0\n",
      "Timestamp    0\n",
      "IP           0\n",
      "dtype: int64\n"
     ]
    }
   ],
   "source": [
    "# inspect df\n",
    "print(df.info())\n",
    "print()\n",
    "print(df.isnull().sum())"
   ]
  },
  {
   "cell_type": "code",
   "execution_count": 4,
   "metadata": {
    "execution": {
     "iopub.execute_input": "2023-09-22T20:11:40.230158Z",
     "iopub.status.busy": "2023-09-22T20:11:40.229924Z",
     "iopub.status.idle": "2023-09-22T20:11:40.233081Z",
     "shell.execute_reply": "2023-09-22T20:11:40.232625Z",
     "shell.execute_reply.started": "2023-09-22T20:11:40.230140Z"
    },
    "tags": []
   },
   "outputs": [],
   "source": [
    "# train test split\n",
    "train_fraction = 0.8\n",
    "split_point = int(len(df) * train_fraction)\n",
    "\n",
    "df_train = df.iloc[:split_point]\n",
    "df_test = df.iloc[split_point:]"
   ]
  },
  {
   "cell_type": "code",
   "execution_count": 5,
   "metadata": {
    "execution": {
     "iopub.execute_input": "2023-09-22T20:11:42.074756Z",
     "iopub.status.busy": "2023-09-22T20:11:42.074516Z",
     "iopub.status.idle": "2023-09-22T20:11:42.077325Z",
     "shell.execute_reply": "2023-09-22T20:11:42.076852Z",
     "shell.execute_reply.started": "2023-09-22T20:11:42.074738Z"
    },
    "tags": []
   },
   "outputs": [],
   "source": [
    "# raw sequence data\n",
    "train_raw_seq = np.array(df_train[\"Number\"])"
   ]
  },
  {
   "cell_type": "markdown",
   "metadata": {},
   "source": [
    "# Look back data"
   ]
  },
  {
   "cell_type": "code",
   "execution_count": 6,
   "metadata": {
    "execution": {
     "iopub.execute_input": "2023-09-22T20:11:45.342896Z",
     "iopub.status.busy": "2023-09-22T20:11:45.342668Z",
     "iopub.status.idle": "2023-09-22T20:11:45.347475Z",
     "shell.execute_reply": "2023-09-22T20:11:45.346994Z",
     "shell.execute_reply.started": "2023-09-22T20:11:45.342878Z"
    },
    "tags": []
   },
   "outputs": [],
   "source": [
    "# look back sequences\n",
    "def split_sequence(sequence: np.ndarray, n_steps: int):\n",
    "    \"\"\"Make sub sequences of n length and the prediction value and return them\n",
    "\n",
    "    Args:\n",
    "        sequence (numpy.ndarray): The sequence of training data\n",
    "        n_steps (int): How many past data points to look at\n",
    "    \"\"\"\n",
    "\n",
    "    x, y = [], []\n",
    "\n",
    "    for i in range(len(sequence)):\n",
    "        # find index of end of current learning slice\n",
    "        end_i = i + n_steps\n",
    "\n",
    "        # check if end is beyond the length of sequence\n",
    "        if end_i > len(sequence) - 1:  # -1 since last element needs to be the prediction value\n",
    "            break\n",
    "        else:\n",
    "            seq_x = sequence[i:end_i]  # training sequence\n",
    "            seq_y = sequence[end_i]  # prediction value\n",
    "\n",
    "            x.append(seq_x)\n",
    "            y.append(seq_y)\n",
    "\n",
    "    # Reshape data\n",
    "    x = np.array(x)\n",
    "    y = np.array(y)\n",
    "\n",
    "    x = x.reshape(x.shape[0], x.shape[1], n_feeatures)  # each internal array contains data of each timestep\n",
    "    y = y.reshape(-1, n_feeatures)\n",
    "    \n",
    "    return x, y"
   ]
  },
  {
   "cell_type": "code",
   "execution_count": 7,
   "metadata": {
    "execution": {
     "iopub.execute_input": "2023-09-22T20:11:53.073607Z",
     "iopub.status.busy": "2023-09-22T20:11:53.073376Z",
     "iopub.status.idle": "2023-09-22T20:11:53.103167Z",
     "shell.execute_reply": "2023-09-22T20:11:53.102683Z",
     "shell.execute_reply.started": "2023-09-22T20:11:53.073588Z"
    },
    "tags": []
   },
   "outputs": [],
   "source": [
    "# get training sequence and prediction value pairs\n",
    "n_look_back = 50\n",
    "X_train, y_train = split_sequence(train_raw_seq, n_look_back)"
   ]
  },
  {
   "cell_type": "markdown",
   "metadata": {},
   "source": [
    "# Models"
   ]
  },
  {
   "cell_type": "code",
   "execution_count": 8,
   "metadata": {
    "execution": {
     "iopub.execute_input": "2023-09-22T20:11:55.589447Z",
     "iopub.status.busy": "2023-09-22T20:11:55.589211Z",
     "iopub.status.idle": "2023-09-22T20:11:55.594823Z",
     "shell.execute_reply": "2023-09-22T20:11:55.594340Z",
     "shell.execute_reply.started": "2023-09-22T20:11:55.589429Z"
    },
    "tags": []
   },
   "outputs": [],
   "source": [
    "# construct model\n",
    "from tensorflow.keras.models import Sequential\n",
    "from tensorflow.keras.layers import LSTM, Dense\n",
    "\n",
    "def train_model(activation_function, epoch_count=15, optimizer_algorithm='adam', loss_metric='mean_squared_logarithmic_error'):\n",
    "    # define model\n",
    "    model = Sequential()\n",
    "    model.add(LSTM(50, activation=activation_function, input_shape=(n_look_back, n_feeatures)))\n",
    "    model.add(Dense(1))\n",
    "    model.compile(optimizer=optimizer_algorithm, loss=loss_metric)\n",
    "\n",
    "    # fit model\n",
    "    history = model.fit(X_train, y_train, epochs=epoch_count, verbose=3, validation_split=0.2)\n",
    "\n",
    "    # plot train and validation loss\n",
    "    plt.plot(history.history[\"loss\"])\n",
    "    plt.plot(history.history[\"val_loss\"])\n",
    "    plt.title(\"Model loss\")\n",
    "    plt.xlabel(\"Epoch\")\n",
    "    plt.ylabel(\"Loss\")\n",
    "    plt.legend([\"Train\", \"Validation\"], loc=\"upper right\")\n",
    "    plt.show()\n",
    "\n",
    "    # return trained model object\n",
    "    return model"
   ]
  },
  {
   "cell_type": "code",
   "execution_count": 10,
   "metadata": {},
   "outputs": [
    {
     "name": "stdout",
     "output_type": "stream",
     "text": [
      "WARNING:tensorflow:Layer lstm will not use cuDNN kernels since it doesn't meet the criteria. It will use a generic GPU kernel as fallback when running on GPU.\n",
      "Epoch 1/15\n",
      "Epoch 2/15\n",
      "Epoch 3/15\n",
      "Epoch 4/15\n",
      "Epoch 5/15\n",
      "Epoch 6/15\n",
      "Epoch 7/15\n",
      "Epoch 8/15\n",
      "Epoch 9/15\n",
      "Epoch 10/15\n",
      "Epoch 11/15\n",
      "Epoch 12/15\n",
      "Epoch 13/15\n",
      "Epoch 14/15\n",
      "Epoch 15/15\n"
     ]
    },
    {
     "data": {
      "image/png": "[encoded data removed]",
      "text/plain": [
       "<Figure size 432x288 with 1 Axes>"
      ]
     },
     "metadata": {
      "needs_background": "light"
     },
     "output_type": "display_data"
    }
   ],
   "source": [
    "# ReLu\n",
    "model_1 = train_model('relu')"
   ]
  },
  {
   "cell_type": "code",
   "execution_count": 11,
   "metadata": {},
   "outputs": [],
   "source": [
    "# save model to file\n",
    "model_1.save('./models/01-relu.keras')"
   ]
  },
  {
   "cell_type": "code",
   "execution_count": 10,
   "metadata": {
    "execution": {
     "iopub.execute_input": "2023-09-22T20:12:12.755330Z",
     "iopub.status.busy": "2023-09-22T20:12:12.755036Z",
     "iopub.status.idle": "2023-09-22T20:18:54.598287Z",
     "shell.execute_reply": "2023-09-22T20:18:54.597723Z",
     "shell.execute_reply.started": "2023-09-22T20:12:12.755310Z"
    }
   },
   "outputs": [
    {
     "name": "stdout",
     "output_type": "stream",
     "text": [
      "WARNING:tensorflow:Layer lstm will not use cuDNN kernels since it doesn't meet the criteria. It will use a generic GPU kernel as fallback when running on GPU.\n",
      "Epoch 1/15\n",
      "Epoch 2/15\n",
      "Epoch 3/15\n",
      "Epoch 4/15\n",
      "Epoch 5/15\n",
      "Epoch 6/15\n",
      "Epoch 7/15\n",
      "Epoch 8/15\n",
      "Epoch 9/15\n",
      "Epoch 10/15\n",
      "Epoch 11/15\n",
      "Epoch 12/15\n",
      "Epoch 13/15\n",
      "Epoch 14/15\n",
      "Epoch 15/15\n"
     ]
    },
    {
     "data": {
      "image/png": "[encoded data removed]",
      "text/plain": [
       "<Figure size 432x288 with 1 Axes>"
      ]
     },
     "metadata": {
      "needs_background": "light"
     },
     "output_type": "display_data"
    }
   ],
   "source": [
    "# Sigmoid\n",
    "model_2 = train_model('sigmoid')"
   ]
  },
  {
   "cell_type": "code",
   "execution_count": 11,
   "metadata": {
    "execution": {
     "iopub.execute_input": "2023-09-22T20:18:54.599296Z",
     "iopub.status.busy": "2023-09-22T20:18:54.599109Z",
     "iopub.status.idle": "2023-09-22T20:18:54.616785Z",
     "shell.execute_reply": "2023-09-22T20:18:54.616212Z",
     "shell.execute_reply.started": "2023-09-22T20:18:54.599279Z"
    }
   },
   "outputs": [],
   "source": [
    "# save model to file\n",
    "model_2.save('./models/01-sigmoid.keras')"
   ]
  },
  {
   "cell_type": "markdown",
   "metadata": {},
   "source": [
    "# Evaluate"
   ]
  },
  {
   "cell_type": "code",
   "execution_count": 18,
   "metadata": {
    "execution": {
     "iopub.execute_input": "2023-09-22T20:20:08.819173Z",
     "iopub.status.busy": "2023-09-22T20:20:08.818918Z",
     "iopub.status.idle": "2023-09-22T20:20:08.822299Z",
     "shell.execute_reply": "2023-09-22T20:20:08.821800Z",
     "shell.execute_reply.started": "2023-09-22T20:20:08.819152Z"
    },
    "tags": []
   },
   "outputs": [],
   "source": [
    "# define evaluate function\n",
    "def evaluate_msle(model: tensorflow.keras.models.Sequential, preds: np.array, ground_truths: np.array):\n",
    "    m = tensorflow.keras.metrics.MeanSquaredLogarithmicError()\n",
    "    m.update_state(ground_truths, preds)\n",
    "    metric = m.result().numpy()\n",
    "    m.reset_state()\n",
    "    return metric"
   ]
  },
  {
   "cell_type": "code",
   "execution_count": 19,
   "metadata": {
    "execution": {
     "iopub.execute_input": "2023-09-22T20:20:09.008188Z",
     "iopub.status.busy": "2023-09-22T20:20:09.007969Z",
     "iopub.status.idle": "2023-09-22T20:20:09.147136Z",
     "shell.execute_reply": "2023-09-22T20:20:09.146638Z",
     "shell.execute_reply.started": "2023-09-22T20:20:09.008170Z"
    },
    "tags": []
   },
   "outputs": [
    {
     "name": "stdout",
     "output_type": "stream",
     "text": [
      "WARNING:tensorflow:Layer lstm will not use cuDNN kernels since it doesn't meet the criteria. It will use a generic GPU kernel as fallback when running on GPU.\n",
      "WARNING:tensorflow:Layer lstm will not use cuDNN kernels since it doesn't meet the criteria. It will use a generic GPU kernel as fallback when running on GPU.\n"
     ]
    }
   ],
   "source": [
    "# Load models again\n",
    "model_1 = tensorflow.keras.models.load_model('./models/01-relu.keras')\n",
    "model_2 = tensorflow.keras.models.load_model('./models/01-sigmoid.keras')"
   ]
  },
  {
   "cell_type": "code",
   "execution_count": 20,
   "metadata": {
    "execution": {
     "iopub.execute_input": "2023-09-22T20:20:09.170378Z",
     "iopub.status.busy": "2023-09-22T20:20:09.170200Z",
     "iopub.status.idle": "2023-09-22T20:20:09.179947Z",
     "shell.execute_reply": "2023-09-22T20:20:09.179497Z",
     "shell.execute_reply.started": "2023-09-22T20:20:09.170362Z"
    },
    "tags": []
   },
   "outputs": [],
   "source": [
    "# test data\n",
    "test_raw_seq = np.array(df_test[\"Number\"])\n",
    "X_test, y_test = split_sequence(test_raw_seq, n_look_back)"
   ]
  },
  {
   "cell_type": "code",
   "execution_count": 21,
   "metadata": {
    "execution": {
     "iopub.execute_input": "2023-09-22T20:20:09.307425Z",
     "iopub.status.busy": "2023-09-22T20:20:09.307033Z",
     "iopub.status.idle": "2023-09-22T20:20:12.609964Z",
     "shell.execute_reply": "2023-09-22T20:20:12.609407Z",
     "shell.execute_reply.started": "2023-09-22T20:20:09.307402Z"
    },
    "tags": []
   },
   "outputs": [
    {
     "name": "stdout",
     "output_type": "stream",
     "text": [
      "280/280 [==============================] - 2s 5ms/step\n",
      "280/280 [==============================] - 2s 5ms/step\n"
     ]
    }
   ],
   "source": [
    "# make predictions\n",
    "preds_1 = model_1.predict(X_test)\n",
    "preds_2 = model_2.predict(X_test)"
   ]
  },
  {
   "cell_type": "code",
   "execution_count": 23,
   "metadata": {
    "execution": {
     "iopub.execute_input": "2023-09-22T20:20:12.615020Z",
     "iopub.status.busy": "2023-09-22T20:20:12.614859Z",
     "iopub.status.idle": "2023-09-22T20:20:12.626150Z",
     "shell.execute_reply": "2023-09-22T20:20:12.625702Z",
     "shell.execute_reply.started": "2023-09-22T20:20:12.615005Z"
    },
    "tags": []
   },
   "outputs": [
    {
     "name": "stdout",
     "output_type": "stream",
     "text": [
      "Model 1 MSLE:  0.8010906\n",
      "Model 2 MSLE:  0.80097634\n"
     ]
    }
   ],
   "source": [
    "print(\"Model 1 MSLE: \", evaluate_msle(model_1, preds_1, y_test))\n",
    "print(\"Model 2 MSLE: \", evaluate_msle(model_2, preds_2, y_test))"
   ]
  }
 ],
 "metadata": {
  "kernelspec": {
   "display_name": "Python 3",
   "language": "python",
   "name": "python3"
  },
  "language_info": {
   "codemirror_mode": {
    "name": "ipython",
    "version": 3
   },
   "file_extension": ".py",
   "mimetype": "text/x-python",
   "name": "python",
   "nbconvert_exporter": "python",
   "pygments_lexer": "ipython3",
   "version": "3.8.10"
  }
 },
 "nbformat": 4,
 "nbformat_minor": 4
}
