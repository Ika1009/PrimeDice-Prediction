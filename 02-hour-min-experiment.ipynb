{
 "cells": [
  {
   "cell_type": "code",
   "execution_count": 1,
   "metadata": {
    "execution": {
     "iopub.execute_input": "2023-09-22T20:29:48.718814Z",
     "iopub.status.busy": "2023-09-22T20:29:48.718673Z",
     "iopub.status.idle": "2023-09-22T20:29:48.828252Z",
     "shell.execute_reply": "2023-09-22T20:29:48.827006Z",
     "shell.execute_reply.started": "2023-09-22T20:29:48.718799Z"
    }
   },
   "outputs": [],
   "source": [
    "!export TF_BLAS=libopenblas"
   ]
  },
  {
   "cell_type": "code",
   "execution_count": 2,
   "metadata": {
    "execution": {
     "iopub.execute_input": "2023-09-22T20:29:48.829287Z",
     "iopub.status.busy": "2023-09-22T20:29:48.829094Z",
     "iopub.status.idle": "2023-09-22T20:29:50.731371Z",
     "shell.execute_reply": "2023-09-22T20:29:50.730806Z",
     "shell.execute_reply.started": "2023-09-22T20:29:48.829270Z"
    }
   },
   "outputs": [
    {
     "name": "stderr",
     "output_type": "stream",
     "text": [
      "/home/ubuntu/.local/lib/python3.8/site-packages/pandas/core/computation/expressions.py:20: UserWarning: Pandas requires version '2.7.3' or newer of 'numexpr' (version '2.7.1' currently installed).\n",
      "  from pandas.core.computation.check import NUMEXPR_INSTALLED\n"
     ]
    }
   ],
   "source": [
    "import pandas as pd\n",
    "import numpy as np\n",
    "import tensorflow\n",
    "import matplotlib.pyplot as plt\n",
    "import glob"
   ]
  },
  {
   "cell_type": "markdown",
   "metadata": {},
   "source": [
    "# Data"
   ]
  },
  {
   "cell_type": "code",
   "execution_count": 3,
   "metadata": {
    "execution": {
     "iopub.execute_input": "2023-09-22T20:29:50.732755Z",
     "iopub.status.busy": "2023-09-22T20:29:50.732488Z",
     "iopub.status.idle": "2023-09-22T20:29:50.827684Z",
     "shell.execute_reply": "2023-09-22T20:29:50.827193Z",
     "shell.execute_reply.started": "2023-09-22T20:29:50.732739Z"
    }
   },
   "outputs": [],
   "source": [
    "# construct dataframe from multiple csv files\n",
    "\n",
    "# get list of available csv files\n",
    "csv_files = glob.glob('./data/*.csv')\n",
    "\n",
    "# read each file and create final df\n",
    "dataframes = []\n",
    "for file in csv_files:\n",
    "    temp_df = pd.read_csv(file)\n",
    "    dataframes.append(temp_df)\n",
    "\n",
    "df = pd.concat(dataframes, ignore_index=True)\n",
    "df['Timestamp'] = pd.to_datetime(df['Timestamp'], unit='s')  # convert unix_train time to date time\n",
    "df.sort_values(by='Timestamp', inplace=True)  # sort by timestamp\n",
    "\n",
    "# n_feeatures = 3  # number of features used to train"
   ]
  },
  {
   "cell_type": "code",
   "execution_count": 4,
   "metadata": {
    "execution": {
     "iopub.execute_input": "2023-09-22T20:29:50.828719Z",
     "iopub.status.busy": "2023-09-22T20:29:50.828551Z",
     "iopub.status.idle": "2023-09-22T20:29:50.838436Z",
     "shell.execute_reply": "2023-09-22T20:29:50.837988Z",
     "shell.execute_reply.started": "2023-09-22T20:29:50.828703Z"
    }
   },
   "outputs": [
    {
     "name": "stdout",
     "output_type": "stream",
     "text": [
      "<class 'pandas.core.frame.DataFrame'>\n",
      "Int64Index: 44979 entries, 38532 to 38531\n",
      "Data columns (total 3 columns):\n",
      " #   Column     Non-Null Count  Dtype         \n",
      "---  ------     --------------  -----         \n",
      " 0   Number     44979 non-null  float64       \n",
      " 1   Timestamp  44979 non-null  datetime64[ns]\n",
      " 2   IP         44979 non-null  object        \n",
      "dtypes: datetime64[ns](1), float64(1), object(1)\n",
      "memory usage: 1.4+ MB\n"
     ]
    }
   ],
   "source": [
    "df.info()"
   ]
  },
  {
   "cell_type": "markdown",
   "metadata": {},
   "source": [
    "# Feature Eng."
   ]
  },
  {
   "cell_type": "code",
   "execution_count": 5,
   "metadata": {
    "execution": {
     "iopub.execute_input": "2023-09-22T20:29:50.839223Z",
     "iopub.status.busy": "2023-09-22T20:29:50.839054Z",
     "iopub.status.idle": "2023-09-22T20:29:50.841719Z",
     "shell.execute_reply": "2023-09-22T20:29:50.841292Z",
     "shell.execute_reply.started": "2023-09-22T20:29:50.839209Z"
    }
   },
   "outputs": [],
   "source": [
    "def get_time_attr(row: pd.Series, part: str):\n",
    "    \"\"\"Return the specified part of the timestamp.\n",
    "\n",
    "    Args:\n",
    "        row (pd.Series): Dataframe row\n",
    "        part (str): Should be a valid `pandas.Timestamp` attribute\n",
    "\n",
    "    Returns:\n",
    "        any: Specified attribute of the timestamp\n",
    "    \"\"\"\n",
    "    return getattr(row, part)"
   ]
  },
  {
   "cell_type": "code",
   "execution_count": 6,
   "metadata": {
    "execution": {
     "iopub.execute_input": "2023-09-22T20:29:50.842432Z",
     "iopub.status.busy": "2023-09-22T20:29:50.842276Z",
     "iopub.status.idle": "2023-09-22T20:29:50.911150Z",
     "shell.execute_reply": "2023-09-22T20:29:50.910723Z",
     "shell.execute_reply.started": "2023-09-22T20:29:50.842417Z"
    }
   },
   "outputs": [],
   "source": [
    "# Get time attributes and add to dataframe\n",
    "needed_time_attrs = [\"hour\", \"minute\"]\n",
    "\n",
    "for attr in needed_time_attrs:\n",
    "    df[attr] = df[\"Timestamp\"].apply(lambda x: get_time_attr(x, attr))\n"
   ]
  },
  {
   "cell_type": "markdown",
   "metadata": {},
   "source": [
    "# Data preprocessing"
   ]
  },
  {
   "cell_type": "code",
   "execution_count": 7,
   "metadata": {
    "execution": {
     "iopub.execute_input": "2023-09-22T20:29:50.911839Z",
     "iopub.status.busy": "2023-09-22T20:29:50.911689Z",
     "iopub.status.idle": "2023-09-22T20:29:50.914321Z",
     "shell.execute_reply": "2023-09-22T20:29:50.913898Z",
     "shell.execute_reply.started": "2023-09-22T20:29:50.911826Z"
    }
   },
   "outputs": [],
   "source": [
    "# train test split\n",
    "train_fraction = 0.8\n",
    "split_point = int(len(df) * train_fraction)\n",
    "\n",
    "df_train = df.iloc[:split_point]\n",
    "df_test = df.iloc[split_point:]"
   ]
  },
  {
   "cell_type": "code",
   "execution_count": 8,
   "metadata": {
    "execution": {
     "iopub.execute_input": "2023-09-22T20:29:50.915001Z",
     "iopub.status.busy": "2023-09-22T20:29:50.914851Z",
     "iopub.status.idle": "2023-09-22T20:29:50.918772Z",
     "shell.execute_reply": "2023-09-22T20:29:50.918308Z",
     "shell.execute_reply.started": "2023-09-22T20:29:50.914987Z"
    }
   },
   "outputs": [],
   "source": [
    "# raw sequence data\n",
    "train_raw_seq = np.array(df_train[[\"Number\", \"hour\", \"minute\"]])\n",
    "n_features = train_raw_seq.shape[-1]  # Number of features being used\n",
    "n_look_back = 50  # Number of historical data points to learn for each result"
   ]
  },
  {
   "cell_type": "code",
   "execution_count": 9,
   "metadata": {
    "execution": {
     "iopub.execute_input": "2023-09-22T20:29:50.920487Z",
     "iopub.status.busy": "2023-09-22T20:29:50.920330Z",
     "iopub.status.idle": "2023-09-22T20:29:50.924487Z",
     "shell.execute_reply": "2023-09-22T20:29:50.924028Z",
     "shell.execute_reply.started": "2023-09-22T20:29:50.920473Z"
    }
   },
   "outputs": [],
   "source": [
    "# look back sequences\n",
    "def split_sequence(sequence: np.ndarray, n_steps: int, n_features: int):\n",
    "    \"\"\"Make sub sequences of n length and the prediction value and return them\n",
    "\n",
    "    Args:\n",
    "        sequence (numpy.ndarray): The sequence of training data\n",
    "        n_steps (int): How many past data points to look at\n",
    "        n_features (int): Total number of features in given dataset\n",
    "    \"\"\"\n",
    "\n",
    "    x, y = [], []\n",
    "\n",
    "    for i in range(len(sequence)):\n",
    "        # find index of end of current learning slice\n",
    "        end_i = i + n_steps\n",
    "\n",
    "        # check if end is beyond the length of sequence\n",
    "        if end_i > len(sequence) - 1:  # -1 since last element needs to be the prediction value\n",
    "            break\n",
    "        else:\n",
    "            seq_x = sequence[i:end_i]  # training sequence\n",
    "            seq_y = sequence[end_i]  # prediction value\n",
    "\n",
    "            x.append(seq_x)\n",
    "            y.append(seq_y)\n",
    "\n",
    "    # Reshape data\n",
    "    x = np.array(x)\n",
    "    y = np.array(y)\n",
    "\n",
    "    x = x.reshape(x.shape[0], x.shape[1], n_features)  # each internal array contains data of each timestep\n",
    "    y = y.reshape(-1, n_features)\n",
    "    \n",
    "    return x, y"
   ]
  },
  {
   "cell_type": "code",
   "execution_count": 10,
   "metadata": {
    "execution": {
     "iopub.execute_input": "2023-09-22T20:29:50.925387Z",
     "iopub.status.busy": "2023-09-22T20:29:50.925238Z",
     "iopub.status.idle": "2023-09-22T20:29:50.981296Z",
     "shell.execute_reply": "2023-09-22T20:29:50.980186Z",
     "shell.execute_reply.started": "2023-09-22T20:29:50.925374Z"
    }
   },
   "outputs": [],
   "source": [
    "# Get train, test splits\n",
    "X_train, y_train = split_sequence(train_raw_seq, n_look_back, n_features)"
   ]
  },
  {
   "cell_type": "markdown",
   "metadata": {},
   "source": [
    "# Models"
   ]
  },
  {
   "cell_type": "code",
   "execution_count": 11,
   "metadata": {
    "execution": {
     "iopub.execute_input": "2023-09-22T20:29:50.982100Z",
     "iopub.status.busy": "2023-09-22T20:29:50.981940Z",
     "iopub.status.idle": "2023-09-22T20:29:51.024342Z",
     "shell.execute_reply": "2023-09-22T20:29:51.023137Z",
     "shell.execute_reply.started": "2023-09-22T20:29:50.982084Z"
    }
   },
   "outputs": [],
   "source": [
    "# construct model\n",
    "from tensorflow.keras.models import Sequential\n",
    "from tensorflow.keras.layers import LSTM, Dense\n",
    "\n",
    "def train_model(X_train, y_train, n_features, n_look_back, activation_function, epoch_count=15, optimizer_algorithm='adam', loss_metric='mean_squared_logarithmic_error'):\n",
    "    # define model\n",
    "    model = Sequential()\n",
    "    model.add(LSTM(n_look_back, activation=activation_function, input_shape=(n_look_back, n_features)))\n",
    "    model.add(Dense(1))\n",
    "    model.compile(optimizer=optimizer_algorithm, loss=loss_metric)\n",
    "\n",
    "    # fit model\n",
    "    history = model.fit(X_train, y_train, epochs=epoch_count, verbose=3, validation_split=0.2)\n",
    "\n",
    "    # plot train and validation loss\n",
    "    plt.plot(history.history[\"loss\"])\n",
    "    plt.plot(history.history[\"val_loss\"])\n",
    "    plt.title(\"Model loss\")\n",
    "    plt.xlabel(\"Epoch\")\n",
    "    plt.ylabel(\"Loss\")\n",
    "    plt.legend([\"Train\", \"Validation\"], loc=\"upper right\")\n",
    "    plt.show()\n",
    "\n",
    "    # return trained model object\n",
    "    return model"
   ]
  },
  {
   "cell_type": "code",
   "execution_count": 12,
   "metadata": {
    "execution": {
     "iopub.execute_input": "2023-09-22T20:29:51.025041Z",
     "iopub.status.busy": "2023-09-22T20:29:51.024886Z",
     "iopub.status.idle": "2023-09-22T20:31:48.871572Z",
     "shell.execute_reply": "2023-09-22T20:31:48.871098Z",
     "shell.execute_reply.started": "2023-09-22T20:29:51.025026Z"
    }
   },
   "outputs": [
    {
     "name": "stdout",
     "output_type": "stream",
     "text": [
      "Epoch 1/15\n",
      "Epoch 2/15\n",
      "Epoch 3/15\n",
      "Epoch 4/15\n",
      "Epoch 5/15\n",
      "Epoch 6/15\n",
      "Epoch 7/15\n",
      "Epoch 8/15\n",
      "Epoch 9/15\n",
      "Epoch 10/15\n",
      "Epoch 11/15\n",
      "Epoch 12/15\n",
      "Epoch 13/15\n",
      "Epoch 14/15\n",
      "Epoch 15/15\n"
     ]
    },
    {
     "data": {
      "image/png": "[encoded data removed]",
      "text/plain": [
       "<Figure size 432x288 with 1 Axes>"
      ]
     },
     "metadata": {
      "needs_background": "light"
     },
     "output_type": "display_data"
    }
   ],
   "source": [
    "# ReLu\n",
    "model_1 = train_model(X_train, y_train, n_features, n_look_back, 'relu')"
   ]
  },
  {
   "cell_type": "code",
   "execution_count": 13,
   "metadata": {
    "execution": {
     "iopub.execute_input": "2023-09-22T20:31:48.872473Z",
     "iopub.status.busy": "2023-09-22T20:31:48.872254Z",
     "iopub.status.idle": "2023-09-22T20:31:48.893592Z",
     "shell.execute_reply": "2023-09-22T20:31:48.893136Z",
     "shell.execute_reply.started": "2023-09-22T20:31:48.872456Z"
    }
   },
   "outputs": [],
   "source": [
    "# save model to file\n",
    "model_1_path = './models/02-hour_min-relu.keras'\n",
    "model_1.save(model_1_path)"
   ]
  },
  {
   "cell_type": "code",
   "execution_count": 14,
   "metadata": {
    "execution": {
     "iopub.execute_input": "2023-09-22T20:31:48.894376Z",
     "iopub.status.busy": "2023-09-22T20:31:48.894207Z",
     "iopub.status.idle": "2023-09-22T20:33:49.508423Z",
     "shell.execute_reply": "2023-09-22T20:33:49.507816Z",
     "shell.execute_reply.started": "2023-09-22T20:31:48.894361Z"
    },
    "tags": []
   },
   "outputs": [
    {
     "name": "stdout",
     "output_type": "stream",
     "text": [
      "Epoch 1/15\n",
      "Epoch 2/15\n",
      "Epoch 3/15\n",
      "Epoch 4/15\n",
      "Epoch 5/15\n",
      "Epoch 6/15\n",
      "Epoch 7/15\n",
      "Epoch 8/15\n",
      "Epoch 9/15\n",
      "Epoch 10/15\n",
      "Epoch 11/15\n",
      "Epoch 12/15\n",
      "Epoch 13/15\n",
      "Epoch 14/15\n",
      "Epoch 15/15\n"
     ]
    },
    {
     "data": {
      "image/png": "[encoded data removed]",
      "text/plain": [
       "<Figure size 432x288 with 1 Axes>"
      ]
     },
     "metadata": {
      "needs_background": "light"
     },
     "output_type": "display_data"
    }
   ],
   "source": [
    "# Sigmoid\n",
    "model_2 = train_model(X_train, y_train, n_features, n_look_back, 'sigmoid')"
   ]
  },
  {
   "cell_type": "code",
   "execution_count": 15,
   "metadata": {
    "execution": {
     "iopub.execute_input": "2023-09-22T20:33:49.509340Z",
     "iopub.status.busy": "2023-09-22T20:33:49.509091Z",
     "iopub.status.idle": "2023-09-22T20:33:49.524801Z",
     "shell.execute_reply": "2023-09-22T20:33:49.524232Z",
     "shell.execute_reply.started": "2023-09-22T20:33:49.509323Z"
    }
   },
   "outputs": [],
   "source": [
    "# save model to file\n",
    "model_2_path = './models/02-hour_min-sigmoid.keras'\n",
    "model_2.save(model_2_path)"
   ]
  },
  {
   "cell_type": "markdown",
   "metadata": {},
   "source": [
    "# Evaluate"
   ]
  },
  {
   "cell_type": "code",
   "execution_count": 16,
   "metadata": {
    "execution": {
     "iopub.execute_input": "2023-09-22T20:33:49.525563Z",
     "iopub.status.busy": "2023-09-22T20:33:49.525377Z",
     "iopub.status.idle": "2023-09-22T20:33:49.529054Z",
     "shell.execute_reply": "2023-09-22T20:33:49.528613Z",
     "shell.execute_reply.started": "2023-09-22T20:33:49.525548Z"
    }
   },
   "outputs": [],
   "source": [
    "# define evaluate function\n",
    "def evaluate_msle(model: tensorflow.keras.models.Sequential, preds: np.array, ground_truths: np.array):\n",
    "    m = tensorflow.keras.metrics.MeanSquaredLogarithmicError()\n",
    "    m.update_state(ground_truths, preds)\n",
    "    metric = m.result().numpy()\n",
    "    m.reset_state()\n",
    "    return metric"
   ]
  },
  {
   "cell_type": "code",
   "execution_count": 22,
   "metadata": {
    "execution": {
     "iopub.execute_input": "2023-09-22T20:35:33.630108Z",
     "iopub.status.busy": "2023-09-22T20:35:33.629874Z",
     "iopub.status.idle": "2023-09-22T20:35:33.769376Z",
     "shell.execute_reply": "2023-09-22T20:35:33.768539Z",
     "shell.execute_reply.started": "2023-09-22T20:35:33.630090Z"
    },
    "tags": []
   },
   "outputs": [],
   "source": [
    "# Load models again\n",
    "model_1 = tensorflow.keras.models.load_model(model_1_path)\n",
    "model_2 = tensorflow.keras.models.load_model(model_2_path)"
   ]
  },
  {
   "cell_type": "code",
   "execution_count": 24,
   "metadata": {
    "execution": {
     "iopub.execute_input": "2023-09-22T20:36:21.293228Z",
     "iopub.status.busy": "2023-09-22T20:36:21.293000Z",
     "iopub.status.idle": "2023-09-22T20:36:21.311024Z",
     "shell.execute_reply": "2023-09-22T20:36:21.309782Z",
     "shell.execute_reply.started": "2023-09-22T20:36:21.293210Z"
    },
    "tags": []
   },
   "outputs": [],
   "source": [
    "# test data\n",
    "test_raw_seq = np.array(df_test[[\"Number\", \"hour\", \"minute\"]])\n",
    "X_test, y_test = split_sequence(test_raw_seq, n_look_back, n_features)"
   ]
  },
  {
   "cell_type": "code",
   "execution_count": 25,
   "metadata": {
    "execution": {
     "iopub.execute_input": "2023-09-22T20:36:22.375407Z",
     "iopub.status.busy": "2023-09-22T20:36:22.375180Z",
     "iopub.status.idle": "2023-09-22T20:36:24.306998Z",
     "shell.execute_reply": "2023-09-22T20:36:24.306161Z",
     "shell.execute_reply.started": "2023-09-22T20:36:22.375390Z"
    },
    "tags": []
   },
   "outputs": [
    {
     "name": "stdout",
     "output_type": "stream",
     "text": [
      "280/280 [==============================] - 1s 3ms/step\n",
      "280/280 [==============================] - 1s 3ms/step\n"
     ]
    }
   ],
   "source": [
    "# make predictions\n",
    "preds_1 = model_1.predict(X_test)\n",
    "preds_2 = model_2.predict(X_test)"
   ]
  },
  {
   "cell_type": "code",
   "execution_count": 26,
   "metadata": {
    "execution": {
     "iopub.execute_input": "2023-09-22T20:36:30.158502Z",
     "iopub.status.busy": "2023-09-22T20:36:30.158256Z",
     "iopub.status.idle": "2023-09-22T20:36:30.180712Z",
     "shell.execute_reply": "2023-09-22T20:36:30.180186Z",
     "shell.execute_reply.started": "2023-09-22T20:36:30.158483Z"
    },
    "tags": []
   },
   "outputs": [
    {
     "name": "stdout",
     "output_type": "stream",
     "text": [
      "Model 1 MSLE:  10.388537\n",
      "Model 2 MSLE:  0.6216314\n"
     ]
    }
   ],
   "source": [
    "print(\"Model 1 MSLE: \", evaluate_msle(model_1, preds_1, y_test))\n",
    "print(\"Model 2 MSLE: \", evaluate_msle(model_2, preds_2, y_test))"
   ]
  },
  {
   "cell_type": "code",
   "execution_count": null,
   "metadata": {},
   "outputs": [],
   "source": []
  }
 ],
 "metadata": {
  "kernelspec": {
   "display_name": "Python 3",
   "language": "python",
   "name": "python3"
  },
  "language_info": {
   "codemirror_mode": {
    "name": "ipython",
    "version": 3
   },
   "file_extension": ".py",
   "mimetype": "text/x-python",
   "name": "python",
   "nbconvert_exporter": "python",
   "pygments_lexer": "ipython3",
   "version": "3.8.10"
  }
 },
 "nbformat": 4,
 "nbformat_minor": 2
}
